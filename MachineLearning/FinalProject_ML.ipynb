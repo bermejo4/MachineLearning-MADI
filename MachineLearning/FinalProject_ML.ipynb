{
 "cells": [
  {
   "cell_type": "markdown",
   "metadata": {},
   "source": [
    "# Trabajo Final de Machine Learning 2024-2025:\n",
    "\n",
    "Evaluation\n",
    "* Not based on the obtained results (potentially different difficulties in the tackled problems)\n",
    "* Quality of the deliverables\n",
    "* Methodology employed\n",
    "* Analysis of the dataset\n",
    "* Use of appropriate metrics\n",
    "* Use of different techniques\n",
    "* Encounter problems and how they were solved (if any)\n",
    "* Understanding the datasets and the obtained results\n",
    "* Etc.\n",
    "\n",
    "Fechas:\n",
    "* Tuesday November 12th before 11.59pm -> Deliverables (via ADI or email)\n",
    "* Thursday November 14th in class at 9.15am -> Presentation"
   ]
  }
 ],
 "metadata": {
  "language_info": {
   "name": "python"
  }
 },
 "nbformat": 4,
 "nbformat_minor": 2
}
