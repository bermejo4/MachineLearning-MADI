{
 "cells": [
  {
   "cell_type": "markdown",
   "metadata": {},
   "source": [
    "# Trabajo Final de Data Science 2024-2025:\n",
    "\n",
    "El trabajo consiste en analizar un dataset libremente elegido por cada grupo, que constará de 2 alumnos. \n",
    "\n",
    "El objetivo es que cada grupo sea capaz de llevar a cabo un análisis riguroso de los datos, así como de exponer y visualizar las conclusiones alcanzadas de forma convincente. \n",
    "\n",
    "El trabajo puede llevarse a cabo tanto en R como en Python. Se entregará un ZIP file script con el código, datos necesarios y un informe del trabajo. \n",
    "\n",
    "Se valorará los siguientes apartados:\n",
    "\n",
    "1. Correcta definición del estudio que se quiere llevar a cabo, estableciendo claramente las preguntas que se pretender analizar en el estudio. \n",
    "\n",
    "2. Uso adecuado de las distintas técnicas analíticas explicada durante el curso, incluyendo estadística inferencial y contraste de hipótesis, PCA, modelos de regresión lineal, incluyendo regularización, modelos de regresión logística, selección de variables, métodos de clustering. \n",
    "\n",
    "3. Uso adecuado de técnicas de procesamiento de datos y visualización explicadas durante el curso. \n",
    "\n",
    "4. Estilo adecuado y profesional en el informe entregado. Puede ser tanto en inglés como en castellano.\n",
    "\n",
    "5. Presentación oral de los resultados del trabajo.  \n",
    "\n",
    "Se adjunta un ejemplo de trabajo realizado el curso anterior. No es un trabajo perfecto. Tiene algunos fallos, particularmente se echan en falta un mejor uso de contraste de hipótesis para sustanciar los resultados e hipótesis generadas. Sin embargo, sirve como ejemplo para ver lo que se pide. \n",
    "\n",
    "Fecha de Entrega: 06/11/2024\n",
    "\n",
    "Fecha de Presentaciones: 12/11/2024, 15:00"
   ]
  },
  {
   "cell_type": "markdown",
   "metadata": {},
   "source": [
    "## Datos:\n",
    "\n",
    "(explicación del dataset: columnas, tipos de datos, tamaño, fuente de los datos(link)...)"
   ]
  },
  {
   "cell_type": "markdown",
   "metadata": {},
   "source": [
    "## Metodología:\n",
    "\n",
    "- Análisis del problema ¿Qué queremos?\n",
    "- Visualización de los datos en crudo.\n",
    "- Procesado de los datos.\n",
    "- Representación de los datos y sus relaciones.\n",
    "- ...\n"
   ]
  }
 ],
 "metadata": {
  "language_info": {
   "name": "python"
  }
 },
 "nbformat": 4,
 "nbformat_minor": 2
}
